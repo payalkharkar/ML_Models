{
  "cells": [
    {
      "cell_type": "markdown",
      "metadata": {
        "id": "UHChvaQjPvJ0"
      },
      "source": [
        "# What is Time Series?\n",
        "* Across industries, organizations commonly use time series data, which refers to any information collected over a regular interval of time in their operations. Examples include daily stock prices, energy consumption rates, social media engagement metrics, and retail demand among others. Analyzing time series data yields insights like trends, seasonal patterns and forecasts into future events that can help generate profits. For example, by understanding the seasonal trends in demand for retail products, companies can plan promotions to maximize sales throughout the year.\n",
        "* There are multiple time series algorithms that are optimized for forecasting continuous values, such as temperature or product sales. A time series model can predict trends based only on the original dataset collected over a period of time.\n",
        "\n",
        "**White noise**\n",
        "* A time series is white noise if the variables are independent and identically distributed with a mean of zero. This means that all variables have the same variance (sigma^2) and each value has a zero correlation with all other values in the series.\n",
        "\n",
        "\n",
        "**Data patterns**\n",
        "\n",
        "**cycle**\n",
        "* A cyclic pattern occurs when data rise and fall, but this does not happen within the fixed time and the duration of these fluctuations is usually at least 2 years\n",
        "![](cycle.png)\n",
        "\n",
        "**Trend**\n",
        "* A trend pattern exists when there is a long-term increase or decrease in the series. The trend can be linear, exponential\n",
        "![](trend.png)\n",
        "\n",
        "**Seasonal**\n",
        "* Seasonality exists when data is influenced by seasonal factors, such as a day of the week, a month, and one-quarter of the year. A seasonal pattern exists of a fixed known period.\n",
        "![](sea.png)\n",
        "\n",
        "**Random**\n",
        "* which do not follow any trend, cycle or seasonal patterns\n",
        "![](ran.png)\n",
        "\n",
        "\n",
        "**Types**\n",
        "* Types of time series models are moving average, ARIMA etc.The crucial thing is to choose the right forecasting method as per the characteristics of the time series data. The following are some of the basic time series models:\n",
        "\n",
        "\n",
        "\n",
        "**MA(Moving Average)**\n",
        "* A moving average is defined as an average of fixed number of items in the time series which move through the series by dropping the top items of the previous averaged group and adding the next in each successive average.\n",
        "Yt depends only on random error terms\n",
        "     \tYt = f( εt, εt-1, εt-2, εt-3, ..)\n",
        "\t\tor\n",
        " \tYt = β + εt + θ1 εt-1 + θ2εt-2 + θ3 εt-3 +…\n",
        "\n",
        "\n",
        "\n",
        "**AR(Auto Regressive)**\n",
        "* Autoregression is a time series model that uses observations from previous time steps as input to a regression equation to predict the value at the next time step. It is a very simple idea that can result in accurate forecasts on a range of time series problems.\n",
        "* Yt depends only of past values.\n",
        "* Yt-1, Yt-2, Yt-3 etc\n",
        "              * Yt  = f(Yt-1, Yt-2, Yt-3… )\n",
        "              * Yt = β0 + β1Yt-1 + β2Yt-2 + β3Yt-3 …\n",
        "\n",
        "\n",
        "**ARMA**\n",
        "* Time series, autoregressive–moving-average (ARMA) models provide a parsimonious description of a (weakly) stationary stochastic process in terms of two polynomials, one for the autoregression (AR) and the second for the moving average (MA).\n",
        "* Combines AR and MA\n",
        "\t* Yt = β0 + β1Yt-1 + β2Yt-2 + β3Yt-3 …εt + θ1 εt-1 + θ2εt-2 + θ3 εt-3 +…\n",
        "\n",
        "\n",
        "**ARIMA**\n",
        "* Autoregressive Integrated Moving Average (ARIMA) model is another widely used forecasting technique that involves the combination of two or more time series models. This model is suitable for multivariate non-stationary data. ARIMA method is based on the concepts of autoregression, autocorrelation, and moving average.\n",
        "\n",
        "\n",
        "\n",
        "\n"
      ]
    },
    {
      "cell_type": "markdown",
      "metadata": {
        "id": "iR6i0sLiwFGo"
      },
      "source": [
        "### Create a Time Series Model to predict the future air passenger traffic"
      ]
    },
    {
      "cell_type": "code",
      "execution_count": null,
      "metadata": {
        "id": "UO9RWLyWPvKb"
      },
      "outputs": [],
      "source": [
        "## Importing librries\n",
        "import pandas as pd\n",
        "import warnings\n",
        "warnings.filterwarnings('ignore')"
      ]
    },
    {
      "cell_type": "code",
      "execution_count": null,
      "metadata": {
        "id": "8pBxwl_7wFGq"
      },
      "outputs": [],
      "source": [
        "## loading the data\n",
        "data=pd.read_csv('AirPassengers.csv')\n",
        "# we have data of airline passengers travelled between January 1949 and December 1960"
      ]
    },
    {
      "cell_type": "code",
      "execution_count": null,
      "metadata": {
        "colab": {
          "base_uri": "https://localhost:8080/",
          "height": 206
        },
        "id": "gNs3ffeyPvKh",
        "outputId": "83daf959-2bc7-40c0-a270-962032878833"
      },
      "outputs": [
        {
          "data": {
            "text/html": [
              "<div>\n",
              "<style scoped>\n",
              "    .dataframe tbody tr th:only-of-type {\n",
              "        vertical-align: middle;\n",
              "    }\n",
              "\n",
              "    .dataframe tbody tr th {\n",
              "        vertical-align: top;\n",
              "    }\n",
              "\n",
              "    .dataframe thead th {\n",
              "        text-align: right;\n",
              "    }\n",
              "</style>\n",
              "<table border=\"1\" class=\"dataframe\">\n",
              "  <thead>\n",
              "    <tr style=\"text-align: right;\">\n",
              "      <th></th>\n",
              "      <th>Month</th>\n",
              "      <th>#Passengers</th>\n",
              "    </tr>\n",
              "  </thead>\n",
              "  <tbody>\n",
              "    <tr>\n",
              "      <th>0</th>\n",
              "      <td>1949-01</td>\n",
              "      <td>112</td>\n",
              "    </tr>\n",
              "    <tr>\n",
              "      <th>1</th>\n",
              "      <td>1949-02</td>\n",
              "      <td>118</td>\n",
              "    </tr>\n",
              "    <tr>\n",
              "      <th>2</th>\n",
              "      <td>1949-03</td>\n",
              "      <td>132</td>\n",
              "    </tr>\n",
              "    <tr>\n",
              "      <th>3</th>\n",
              "      <td>1949-04</td>\n",
              "      <td>129</td>\n",
              "    </tr>\n",
              "    <tr>\n",
              "      <th>4</th>\n",
              "      <td>1949-05</td>\n",
              "      <td>121</td>\n",
              "    </tr>\n",
              "  </tbody>\n",
              "</table>\n",
              "</div>"
            ],
            "text/plain": [
              "     Month  #Passengers\n",
              "0  1949-01          112\n",
              "1  1949-02          118\n",
              "2  1949-03          132\n",
              "3  1949-04          129\n",
              "4  1949-05          121"
            ]
          },
          "execution_count": 52,
          "metadata": {},
          "output_type": "execute_result"
        }
      ],
      "source": [
        "data.head()#first five rows"
      ]
    },
    {
      "cell_type": "code",
      "execution_count": null,
      "metadata": {
        "colab": {
          "base_uri": "https://localhost:8080/",
          "height": 206
        },
        "id": "a6Pq7vJIPvKk",
        "outputId": "46e008ca-fdda-4ec8-d7c5-330c9bc603b6"
      },
      "outputs": [
        {
          "data": {
            "text/html": [
              "<div>\n",
              "<style scoped>\n",
              "    .dataframe tbody tr th:only-of-type {\n",
              "        vertical-align: middle;\n",
              "    }\n",
              "\n",
              "    .dataframe tbody tr th {\n",
              "        vertical-align: top;\n",
              "    }\n",
              "\n",
              "    .dataframe thead th {\n",
              "        text-align: right;\n",
              "    }\n",
              "</style>\n",
              "<table border=\"1\" class=\"dataframe\">\n",
              "  <thead>\n",
              "    <tr style=\"text-align: right;\">\n",
              "      <th></th>\n",
              "      <th>Month</th>\n",
              "      <th>#Passengers</th>\n",
              "    </tr>\n",
              "  </thead>\n",
              "  <tbody>\n",
              "    <tr>\n",
              "      <th>139</th>\n",
              "      <td>1960-08</td>\n",
              "      <td>606</td>\n",
              "    </tr>\n",
              "    <tr>\n",
              "      <th>140</th>\n",
              "      <td>1960-09</td>\n",
              "      <td>508</td>\n",
              "    </tr>\n",
              "    <tr>\n",
              "      <th>141</th>\n",
              "      <td>1960-10</td>\n",
              "      <td>461</td>\n",
              "    </tr>\n",
              "    <tr>\n",
              "      <th>142</th>\n",
              "      <td>1960-11</td>\n",
              "      <td>390</td>\n",
              "    </tr>\n",
              "    <tr>\n",
              "      <th>143</th>\n",
              "      <td>1960-12</td>\n",
              "      <td>432</td>\n",
              "    </tr>\n",
              "  </tbody>\n",
              "</table>\n",
              "</div>"
            ],
            "text/plain": [
              "       Month  #Passengers\n",
              "139  1960-08          606\n",
              "140  1960-09          508\n",
              "141  1960-10          461\n",
              "142  1960-11          390\n",
              "143  1960-12          432"
            ]
          },
          "execution_count": 53,
          "metadata": {},
          "output_type": "execute_result"
        }
      ],
      "source": [
        "data.tail()#last 5 rows"
      ]
    },
    {
      "cell_type": "code",
      "execution_count": null,
      "metadata": {
        "colab": {
          "base_uri": "https://localhost:8080/"
        },
        "id": "j30sCuJRPvKn",
        "outputId": "3a7fdf9a-888b-4af1-fa93-e7a328b0f91a"
      },
      "outputs": [
        {
          "name": "stdout",
          "output_type": "stream",
          "text": [
            "<class 'pandas.core.frame.DataFrame'>\n",
            "RangeIndex: 144 entries, 0 to 143\n",
            "Data columns (total 2 columns):\n",
            " #   Column       Non-Null Count  Dtype \n",
            "---  ------       --------------  ----- \n",
            " 0   Month        144 non-null    object\n",
            " 1   #Passengers  144 non-null    int64 \n",
            "dtypes: int64(1), object(1)\n",
            "memory usage: 2.4+ KB\n"
          ]
        }
      ],
      "source": [
        "data.info()#info about datatype and null value"
      ]
    },
    {
      "cell_type": "code",
      "execution_count": null,
      "metadata": {
        "id": "pEuZd1zLwFGt"
      },
      "outputs": [],
      "source": [
        "# Month is actually given as string here. It must be in date-time format"
      ]
    },
    {
      "cell_type": "code",
      "execution_count": null,
      "metadata": {
        "id": "s1xsw6ahPvKs"
      },
      "outputs": [],
      "source": [
        "## parse_dates: parsing the date (Converts the string representation of a date to Date object)\n",
        "# index_col: using date column as index\n",
        "\n",
        "data=pd.read_csv('AirPassengers.csv',parse_dates=[0],index_col='Month')"
      ]
    },
    {
      "cell_type": "markdown",
      "metadata": {
        "id": "Jai9mIByPvK0"
      },
      "source": [
        "# Basic checks"
      ]
    },
    {
      "cell_type": "code",
      "execution_count": null,
      "metadata": {
        "colab": {
          "base_uri": "https://localhost:8080/",
          "height": 237
        },
        "id": "XHukVkFPPvK5",
        "outputId": "8cfcc3ae-675d-43b7-d82b-96236124dbb9"
      },
      "outputs": [
        {
          "data": {
            "text/html": [
              "<div>\n",
              "<style scoped>\n",
              "    .dataframe tbody tr th:only-of-type {\n",
              "        vertical-align: middle;\n",
              "    }\n",
              "\n",
              "    .dataframe tbody tr th {\n",
              "        vertical-align: top;\n",
              "    }\n",
              "\n",
              "    .dataframe thead th {\n",
              "        text-align: right;\n",
              "    }\n",
              "</style>\n",
              "<table border=\"1\" class=\"dataframe\">\n",
              "  <thead>\n",
              "    <tr style=\"text-align: right;\">\n",
              "      <th></th>\n",
              "      <th>#Passengers</th>\n",
              "    </tr>\n",
              "    <tr>\n",
              "      <th>Month</th>\n",
              "      <th></th>\n",
              "    </tr>\n",
              "  </thead>\n",
              "  <tbody>\n",
              "    <tr>\n",
              "      <th>1949-01-01</th>\n",
              "      <td>112</td>\n",
              "    </tr>\n",
              "    <tr>\n",
              "      <th>1949-02-01</th>\n",
              "      <td>118</td>\n",
              "    </tr>\n",
              "    <tr>\n",
              "      <th>1949-03-01</th>\n",
              "      <td>132</td>\n",
              "    </tr>\n",
              "    <tr>\n",
              "      <th>1949-04-01</th>\n",
              "      <td>129</td>\n",
              "    </tr>\n",
              "    <tr>\n",
              "      <th>1949-05-01</th>\n",
              "      <td>121</td>\n",
              "    </tr>\n",
              "  </tbody>\n",
              "</table>\n",
              "</div>"
            ],
            "text/plain": [
              "            #Passengers\n",
              "Month                  \n",
              "1949-01-01          112\n",
              "1949-02-01          118\n",
              "1949-03-01          132\n",
              "1949-04-01          129\n",
              "1949-05-01          121"
            ]
          },
          "execution_count": 57,
          "metadata": {},
          "output_type": "execute_result"
        }
      ],
      "source": [
        "data.head()#first five rows\n"
      ]
    },
    {
      "cell_type": "code",
      "execution_count": null,
      "metadata": {
        "id": "Jt5nqjUWPvLB"
      },
      "outputs": [],
      "source": [
        "data.rename(columns = {'#Passengers': 'Passengers'}, inplace = True)"
      ]
    },
    {
      "cell_type": "code",
      "execution_count": null,
      "metadata": {
        "id": "NIRkAd6YwFGv",
        "outputId": "dc438d3c-379d-46c2-80cb-eec10d4b7c3e"
      },
      "outputs": [
        {
          "data": {
            "text/plain": [
              "Month\n",
              "1949-01-01    112\n",
              "1949-02-01    118\n",
              "1949-03-01    132\n",
              "1949-04-01    129\n",
              "1949-05-01    121\n",
              "             ... \n",
              "1960-08-01    606\n",
              "1960-09-01    508\n",
              "1960-10-01    461\n",
              "1960-11-01    390\n",
              "1960-12-01    432\n",
              "Name: Passengers, Length: 144, dtype: int64"
            ]
          },
          "execution_count": 59,
          "metadata": {},
          "output_type": "execute_result"
        }
      ],
      "source": [
        "data['Passengers']"
      ]
    },
    {
      "cell_type": "code",
      "execution_count": null,
      "metadata": {
        "id": "TBS9mnCxPvLF",
        "outputId": "257167dc-fbe6-4ab9-d39a-1666851150bb"
      },
      "outputs": [
        {
          "data": {
            "text/html": [
              "<div>\n",
              "<style scoped>\n",
              "    .dataframe tbody tr th:only-of-type {\n",
              "        vertical-align: middle;\n",
              "    }\n",
              "\n",
              "    .dataframe tbody tr th {\n",
              "        vertical-align: top;\n",
              "    }\n",
              "\n",
              "    .dataframe thead th {\n",
              "        text-align: right;\n",
              "    }\n",
              "</style>\n",
              "<table border=\"1\" class=\"dataframe\">\n",
              "  <thead>\n",
              "    <tr style=\"text-align: right;\">\n",
              "      <th></th>\n",
              "      <th>Passengers</th>\n",
              "    </tr>\n",
              "  </thead>\n",
              "  <tbody>\n",
              "    <tr>\n",
              "      <th>count</th>\n",
              "      <td>144.000000</td>\n",
              "    </tr>\n",
              "    <tr>\n",
              "      <th>mean</th>\n",
              "      <td>280.298611</td>\n",
              "    </tr>\n",
              "    <tr>\n",
              "      <th>std</th>\n",
              "      <td>119.966317</td>\n",
              "    </tr>\n",
              "    <tr>\n",
              "      <th>min</th>\n",
              "      <td>104.000000</td>\n",
              "    </tr>\n",
              "    <tr>\n",
              "      <th>25%</th>\n",
              "      <td>180.000000</td>\n",
              "    </tr>\n",
              "    <tr>\n",
              "      <th>50%</th>\n",
              "      <td>265.500000</td>\n",
              "    </tr>\n",
              "    <tr>\n",
              "      <th>75%</th>\n",
              "      <td>360.500000</td>\n",
              "    </tr>\n",
              "    <tr>\n",
              "      <th>max</th>\n",
              "      <td>622.000000</td>\n",
              "    </tr>\n",
              "  </tbody>\n",
              "</table>\n",
              "</div>"
            ],
            "text/plain": [
              "       Passengers\n",
              "count  144.000000\n",
              "mean   280.298611\n",
              "std    119.966317\n",
              "min    104.000000\n",
              "25%    180.000000\n",
              "50%    265.500000\n",
              "75%    360.500000\n",
              "max    622.000000"
            ]
          },
          "execution_count": 60,
          "metadata": {},
          "output_type": "execute_result"
        }
      ],
      "source": [
        "data.describe()##used to view some basic statistical details like percentile, mean, std etc."
      ]
    },
    {
      "cell_type": "markdown",
      "metadata": {
        "id": "5n41q_JFPvLH"
      },
      "source": [
        "# EDA"
      ]
    },
    {
      "cell_type": "code",
      "execution_count": null,
      "metadata": {
        "colab": {
          "base_uri": "https://localhost:8080/",
          "height": 530
        },
        "id": "1cKfSV7yPvLJ",
        "outputId": "75809573-43fc-4783-a695-53a6df3582e2"
      },
      "outputs": [
        {
          "data": {
            "image/png": "[encoded data removed]",
            "text/plain": [
              "<Figure size 600x300 with 1 Axes>"
            ]
          },
          "metadata": {},
          "output_type": "display_data"
        }
      ],
      "source": [
        "import matplotlib.pyplot as plt\n",
        "plt.figure(figsize=(6,3),facecolor='white')#canvas  size\n",
        "plt.plot(data)#line plot\n",
        "plt.tight_layout()\n",
        "## from plot we can see the series given is not stationary"
      ]
    },
    {
      "cell_type": "markdown",
      "metadata": {
        "id": "Z21N8nnFPvLM"
      },
      "source": [
        "## Stationarity"
      ]
    },
    {
      "cell_type": "markdown",
      "metadata": {
        "id": "XWPlYwNnPvLN"
      },
      "source": [
        "* Stationarity means that the statistical properties of a time series (or rather the process generating it) do not change over time.\n",
        "* Stationarity is important because many useful analytical tools and statistical tests and models rely on it."
      ]
    },
    {
      "cell_type": "markdown",
      "metadata": {
        "id": "jFpHTq9tPvLO"
      },
      "source": [
        "* Constant mean\n",
        "* Constant variance\n",
        "* Constant covariance between periods of identical distance"
      ]
    },
    {
      "cell_type": "markdown",
      "metadata": {
        "id": "kaKG7T53PvLQ"
      },
      "source": [
        "* All it states is that the covariance between time periods of identical lengths (let’s say 10 days/hours/minutes) should be identical to the covariance of some other period of the same length:\n",
        "\n",
        "![image-2.png](attachment:image-2.png)\n",
        "\n"
      ]
    },
    {
      "cell_type": "markdown",
      "metadata": {
        "id": "i6nUJAojPvLR"
      },
      "source": [
        "**Why do we need Stationarity?**\n",
        "- Stationary processes are easier to analyze\n",
        "- Stationarity is assumed by most of the algorithms\n",
        "- It is essential to remove any trend or seasonality before modeling the time series data because if the statistical properties do not change over time, it is easier to model the data accurately. One of the popular ways of making the series stationary is differencing."
      ]
    },
    {
      "cell_type": "markdown",
      "metadata": {
        "id": "7zudgz6HPvLY"
      },
      "source": [
        "**How to check if given series is stationary or not:**\n",
        "- One way is to check autocorrelation.\n",
        "- Autocorrelation is the similarity between observations as a function of the time lag between them."
      ]
    },
    {
      "cell_type": "markdown",
      "metadata": {
        "id": "7tm6yxI3PvLa"
      },
      "source": [
        "* When plotting the value of the ACF for increasing lags (a plot called a correlogram), the values tend to degrade to zero quickly for stationary time series, while for non-stationary data the degradation will happen more slowly."
      ]
    },
    {
      "cell_type": "code",
      "execution_count": null,
      "metadata": {
        "colab": {
          "base_uri": "https://localhost:8080/",
          "height": 545
        },
        "id": "yqNUV5uZPvLe",
        "outputId": "cf1e932b-8cde-40c7-a76b-e4a7c951c87c"
      },
      "outputs": [
        {
          "data": {
            "image/png": "[encoded data removed]",
            "text/plain": [
              "<Figure size 640x480 with 1 Axes>"
            ]
          },
          "execution_count": 13,
          "metadata": {},
          "output_type": "execute_result"
        },
        {
          "data": {
            "image/png": "[encoded data removed]",
            "text/plain": [
              "<Figure size 640x480 with 1 Axes>"
            ]
          },
          "metadata": {},
          "output_type": "display_data"
        }
      ],
      "source": [
        "## Plotting the autocorrelation function\n",
        "from statsmodels.graphics.tsaplots import plot_acf\n",
        "plot_acf(data)\n"
      ]
    },
    {
      "cell_type": "raw",
      "metadata": {
        "id": "8LVkB1ELPvLb"
      },
      "source": [
        "From the autocorrelation plot, it is clear that given series is not stationary."
      ]
    },
    {
      "cell_type": "raw",
      "metadata": {
        "id": "6292aaLKwFGy"
      },
      "source": [
        "We can perform the ADfuller test, a test based on hypothesis, where if the p-value is less than 0.05, then we can consider the time series is stationary, and if the P-value is greater than 0.05, then the time series is non-stationary."
      ]
    },
    {
      "cell_type": "code",
      "execution_count": null,
      "metadata": {
        "id": "SR7CB6aDwFGy",
        "outputId": "6b5f65e1-330b-4bf3-ca4e-ba0faf5eeae0"
      },
      "outputs": [
        {
          "name": "stdout",
          "output_type": "stream",
          "text": [
            "1. ADF :  0.8153688792060543\n",
            "2. P-Value :  0.9918802434376411\n",
            "3. Num Of Lags :  13\n",
            "4. Num Of Observations Used For ADF Regression and Critical Values Calculation : 130\n",
            "5. Critical Values :\n",
            "\t 1% :  -3.4816817173418295\n",
            "\t 5% :  -2.8840418343195267\n",
            "\t 10% :  -2.578770059171598\n"
          ]
        }
      ],
      "source": [
        "# ADfuller Test to check stationarity\n",
        "\n",
        "from statsmodels.tsa.stattools import adfuller\n",
        "dftest = adfuller(data.Passengers, autolag = 'AIC')\n",
        "print(\"1. ADF : \",dftest[0])\n",
        "print(\"2. P-Value : \", dftest[1])\n",
        "print(\"3. Num Of Lags : \", dftest[2])\n",
        "print(\"4. Num Of Observations Used For ADF Regression and Critical Values Calculation :\", dftest[3])\n",
        "print(\"5. Critical Values :\")\n",
        "for key, val in dftest[4].items():\n",
        "    print(\"\\t\",key, \": \", val)"
      ]
    },
    {
      "cell_type": "raw",
      "metadata": {
        "id": "ELX8WEgcwFGy"
      },
      "source": [
        "P-value is higher for our dataset, and we can say that the evidence of rejecting the null hypothesis is low; hence the time series is non-stationary."
      ]
    },
    {
      "cell_type": "code",
      "execution_count": null,
      "metadata": {
        "id": "zjoWZte_PvLi"
      },
      "outputs": [],
      "source": [
        "## making it stationary by taking difference of 1\n",
        "data1=data.diff(periods=1) #This means calculating the change in your row(s)/column(s) over a set number of periods. Or simply,\n",
        "#pandas diff will subtract 1 cell value from another cell value within the same index."
      ]
    },
    {
      "cell_type": "code",
      "execution_count": null,
      "metadata": {
        "id": "BN2HiWjDPvLk",
        "outputId": "4dd8ad33-1da1-48c1-81dd-2788712020d5"
      },
      "outputs": [
        {
          "data": {
            "text/html": [
              "<div>\n",
              "<style scoped>\n",
              "    .dataframe tbody tr th:only-of-type {\n",
              "        vertical-align: middle;\n",
              "    }\n",
              "\n",
              "    .dataframe tbody tr th {\n",
              "        vertical-align: top;\n",
              "    }\n",
              "\n",
              "    .dataframe thead th {\n",
              "        text-align: right;\n",
              "    }\n",
              "</style>\n",
              "<table border=\"1\" class=\"dataframe\">\n",
              "  <thead>\n",
              "    <tr style=\"text-align: right;\">\n",
              "      <th></th>\n",
              "      <th>Passengers</th>\n",
              "    </tr>\n",
              "    <tr>\n",
              "      <th>Month</th>\n",
              "      <th></th>\n",
              "    </tr>\n",
              "  </thead>\n",
              "  <tbody>\n",
              "    <tr>\n",
              "      <th>1949-01-01</th>\n",
              "      <td>NaN</td>\n",
              "    </tr>\n",
              "    <tr>\n",
              "      <th>1949-02-01</th>\n",
              "      <td>6.0</td>\n",
              "    </tr>\n",
              "    <tr>\n",
              "      <th>1949-03-01</th>\n",
              "      <td>14.0</td>\n",
              "    </tr>\n",
              "    <tr>\n",
              "      <th>1949-04-01</th>\n",
              "      <td>-3.0</td>\n",
              "    </tr>\n",
              "    <tr>\n",
              "      <th>1949-05-01</th>\n",
              "      <td>-8.0</td>\n",
              "    </tr>\n",
              "    <tr>\n",
              "      <th>...</th>\n",
              "      <td>...</td>\n",
              "    </tr>\n",
              "    <tr>\n",
              "      <th>1960-08-01</th>\n",
              "      <td>-16.0</td>\n",
              "    </tr>\n",
              "    <tr>\n",
              "      <th>1960-09-01</th>\n",
              "      <td>-98.0</td>\n",
              "    </tr>\n",
              "    <tr>\n",
              "      <th>1960-10-01</th>\n",
              "      <td>-47.0</td>\n",
              "    </tr>\n",
              "    <tr>\n",
              "      <th>1960-11-01</th>\n",
              "      <td>-71.0</td>\n",
              "    </tr>\n",
              "    <tr>\n",
              "      <th>1960-12-01</th>\n",
              "      <td>42.0</td>\n",
              "    </tr>\n",
              "  </tbody>\n",
              "</table>\n",
              "<p>144 rows × 1 columns</p>\n",
              "</div>"
            ],
            "text/plain": [
              "            Passengers\n",
              "Month                 \n",
              "1949-01-01         NaN\n",
              "1949-02-01         6.0\n",
              "1949-03-01        14.0\n",
              "1949-04-01        -3.0\n",
              "1949-05-01        -8.0\n",
              "...                ...\n",
              "1960-08-01       -16.0\n",
              "1960-09-01       -98.0\n",
              "1960-10-01       -47.0\n",
              "1960-11-01       -71.0\n",
              "1960-12-01        42.0\n",
              "\n",
              "[144 rows x 1 columns]"
            ]
          },
          "execution_count": 16,
          "metadata": {},
          "output_type": "execute_result"
        }
      ],
      "source": [
        "data1 # Series integrated to the order of 1"
      ]
    },
    {
      "cell_type": "code",
      "execution_count": null,
      "metadata": {
        "id": "VeJx92rCPvLl",
        "outputId": "c34d8f75-314e-4c03-ed25-dae0d8ce74ce"
      },
      "outputs": [
        {
          "data": {
            "text/html": [
              "<div>\n",
              "<style scoped>\n",
              "    .dataframe tbody tr th:only-of-type {\n",
              "        vertical-align: middle;\n",
              "    }\n",
              "\n",
              "    .dataframe tbody tr th {\n",
              "        vertical-align: top;\n",
              "    }\n",
              "\n",
              "    .dataframe thead th {\n",
              "        text-align: right;\n",
              "    }\n",
              "</style>\n",
              "<table border=\"1\" class=\"dataframe\">\n",
              "  <thead>\n",
              "    <tr style=\"text-align: right;\">\n",
              "      <th></th>\n",
              "      <th>Passengers</th>\n",
              "    </tr>\n",
              "    <tr>\n",
              "      <th>Month</th>\n",
              "      <th></th>\n",
              "    </tr>\n",
              "  </thead>\n",
              "  <tbody>\n",
              "    <tr>\n",
              "      <th>1949-02-01</th>\n",
              "      <td>6.0</td>\n",
              "    </tr>\n",
              "    <tr>\n",
              "      <th>1949-03-01</th>\n",
              "      <td>14.0</td>\n",
              "    </tr>\n",
              "    <tr>\n",
              "      <th>1949-04-01</th>\n",
              "      <td>-3.0</td>\n",
              "    </tr>\n",
              "    <tr>\n",
              "      <th>1949-05-01</th>\n",
              "      <td>-8.0</td>\n",
              "    </tr>\n",
              "    <tr>\n",
              "      <th>1949-06-01</th>\n",
              "      <td>14.0</td>\n",
              "    </tr>\n",
              "    <tr>\n",
              "      <th>...</th>\n",
              "      <td>...</td>\n",
              "    </tr>\n",
              "    <tr>\n",
              "      <th>1960-08-01</th>\n",
              "      <td>-16.0</td>\n",
              "    </tr>\n",
              "    <tr>\n",
              "      <th>1960-09-01</th>\n",
              "      <td>-98.0</td>\n",
              "    </tr>\n",
              "    <tr>\n",
              "      <th>1960-10-01</th>\n",
              "      <td>-47.0</td>\n",
              "    </tr>\n",
              "    <tr>\n",
              "      <th>1960-11-01</th>\n",
              "      <td>-71.0</td>\n",
              "    </tr>\n",
              "    <tr>\n",
              "      <th>1960-12-01</th>\n",
              "      <td>42.0</td>\n",
              "    </tr>\n",
              "  </tbody>\n",
              "</table>\n",
              "<p>143 rows × 1 columns</p>\n",
              "</div>"
            ],
            "text/plain": [
              "            Passengers\n",
              "Month                 \n",
              "1949-02-01         6.0\n",
              "1949-03-01        14.0\n",
              "1949-04-01        -3.0\n",
              "1949-05-01        -8.0\n",
              "1949-06-01        14.0\n",
              "...                ...\n",
              "1960-08-01       -16.0\n",
              "1960-09-01       -98.0\n",
              "1960-10-01       -47.0\n",
              "1960-11-01       -71.0\n",
              "1960-12-01        42.0\n",
              "\n",
              "[143 rows x 1 columns]"
            ]
          },
          "execution_count": 17,
          "metadata": {},
          "output_type": "execute_result"
        }
      ],
      "source": [
        "data1=data1.iloc[1:] #null value discarded\n",
        "data1"
      ]
    },
    {
      "cell_type": "code",
      "execution_count": null,
      "metadata": {
        "colab": {
          "base_uri": "https://localhost:8080/",
          "height": 545
        },
        "id": "5XlNQ3DBPvLo",
        "outputId": "6bd337b5-0f7d-4350-ba8e-5b637186bf59",
        "scrolled": false
      },
      "outputs": [
        {
          "data": {
            "image/png": "[encoded data removed]",
            "text/plain": [
              "<Figure size 640x480 with 1 Axes>"
            ]
          },
          "metadata": {},
          "output_type": "display_data"
        }
      ],
      "source": [
        "plot_acf(data1); # autocorrelation plot"
      ]
    },
    {
      "cell_type": "code",
      "execution_count": null,
      "metadata": {
        "id": "4mR4e0xdRlJ7"
      },
      "outputs": [],
      "source": [
        "data2=data1.diff(periods=1) # differencing applied to data1"
      ]
    },
    {
      "cell_type": "code",
      "execution_count": null,
      "metadata": {
        "id": "xdrnT4FyRsAJ"
      },
      "outputs": [],
      "source": [
        "data2=data2.iloc[1:] # integrated to the order of 2"
      ]
    },
    {
      "cell_type": "code",
      "execution_count": null,
      "metadata": {
        "colab": {
          "base_uri": "https://localhost:8080/",
          "height": 545
        },
        "id": "YEJGIQUxR3J3",
        "outputId": "e3a57be9-83c0-4dc3-9b20-972e02858113",
        "scrolled": true
      },
      "outputs": [
        {
          "data": {
            "image/png": "[encoded data removed]",
            "text/plain": [
              "<Figure size 640x480 with 1 Axes>"
            ]
          },
          "metadata": {},
          "output_type": "display_data"
        }
      ],
      "source": [
        "plot_acf(data2);"
      ]
    },
    {
      "cell_type": "code",
      "execution_count": null,
      "metadata": {
        "colab": {
          "base_uri": "https://localhost:8080/"
        },
        "id": "A3WWQcHyR9lV",
        "outputId": "786e54ae-f817-4d5a-bee7-2327d76c0933"
      },
      "outputs": [
        {
          "data": {
            "text/plain": [
              "(142, 1)"
            ]
          },
          "execution_count": 22,
          "metadata": {},
          "output_type": "execute_result"
        }
      ],
      "source": [
        "data2.shape#shape of the data rows and columns"
      ]
    },
    {
      "cell_type": "code",
      "execution_count": null,
      "metadata": {
        "id": "KIPKkmWuPvLu"
      },
      "outputs": [],
      "source": [
        "## Creating training and test sets\n",
        "train=data2[:100] #from 0th row to 99th row - traning data\n",
        "test=data2[100:] #from 100th row to end - testing data"
      ]
    },
    {
      "cell_type": "code",
      "execution_count": null,
      "metadata": {
        "colab": {
          "base_uri": "https://localhost:8080/"
        },
        "id": "GL3_ryBwPvLv",
        "outputId": "8f8ea99e-0d04-49cd-aaa7-ba7d44c12e9f"
      },
      "outputs": [
        {
          "name": "stdout",
          "output_type": "stream",
          "text": [
            "<class 'pandas.core.frame.DataFrame'>\n",
            "DatetimeIndex: 100 entries, 1949-03-01 to 1957-06-01\n",
            "Data columns (total 1 columns):\n",
            " #   Column      Non-Null Count  Dtype  \n",
            "---  ------      --------------  -----  \n",
            " 0   Passengers  100 non-null    float64\n",
            "dtypes: float64(1)\n",
            "memory usage: 1.6 KB\n"
          ]
        }
      ],
      "source": [
        "train.info()#info about datatype and null value"
      ]
    },
    {
      "cell_type": "code",
      "execution_count": null,
      "metadata": {
        "colab": {
          "base_uri": "https://localhost:8080/"
        },
        "id": "5AWdcKYzijG1",
        "outputId": "e61fbd39-65a2-4391-df26-010686d15aac"
      },
      "outputs": [
        {
          "name": "stdout",
          "output_type": "stream",
          "text": [
            "Requirement already satisfied: statsmodels in c:\\users\\dell-5490\\anaconda3\\lib\\site-packages (0.13.2)\n",
            "Requirement already satisfied: numpy>=1.17 in c:\\users\\dell-5490\\anaconda3\\lib\\site-packages (from statsmodels) (1.21.5)\n",
            "Requirement already satisfied: scipy>=1.3 in c:\\users\\dell-5490\\anaconda3\\lib\\site-packages (from statsmodels) (1.9.1)\n",
            "Requirement already satisfied: pandas>=0.25 in c:\\users\\dell-5490\\anaconda3\\lib\\site-packages (from statsmodels) (1.4.4)\n",
            "Requirement already satisfied: patsy>=0.5.2 in c:\\users\\dell-5490\\anaconda3\\lib\\site-packages (from statsmodels) (0.5.2)\n",
            "Requirement already satisfied: packaging>=21.3 in c:\\users\\dell-5490\\anaconda3\\lib\\site-packages (from statsmodels) (21.3)\n",
            "Requirement already satisfied: pyparsing!=3.0.5,>=2.0.2 in c:\\users\\dell-5490\\anaconda3\\lib\\site-packages (from packaging>=21.3->statsmodels) (3.0.9)\n",
            "Requirement already satisfied: python-dateutil>=2.8.1 in c:\\users\\dell-5490\\anaconda3\\lib\\site-packages (from pandas>=0.25->statsmodels) (2.8.2)\n",
            "Requirement already satisfied: pytz>=2020.1 in c:\\users\\dell-5490\\anaconda3\\lib\\site-packages (from pandas>=0.25->statsmodels) (2022.1)\n",
            "Requirement already satisfied: six in c:\\users\\dell-5490\\anaconda3\\lib\\site-packages (from patsy>=0.5.2->statsmodels) (1.16.0)\n",
            "Note: you may need to restart the kernel to use updated packages.\n"
          ]
        }
      ],
      "source": [
        "pip install statsmodels"
      ]
    },
    {
      "cell_type": "code",
      "execution_count": null,
      "metadata": {
        "id": "fstrV3-VwFG5"
      },
      "outputs": [],
      "source": [
        "## Applying autoregressive model\n",
        "#from statsmodels.tsa.ar_model import AR\n",
        "##from statsmodels.tsa.ar_model import AutoReg\n",
        "\n",
        "from statsmodels.tsa.ar_model import AutoReg\n",
        "import warnings\n",
        "warnings.filterwarnings('ignore')"
      ]
    },
    {
      "cell_type": "code",
      "execution_count": null,
      "metadata": {
        "id": "1HWUcZt6PvLx",
        "outputId": "d13a9c21-9506-4665-a5cf-ef0531b8ccf1"
      },
      "outputs": [
        {
          "data": {
            "text/plain": [
              "[1, 8, 12, 13]"
            ]
          },
          "execution_count": 27,
          "metadata": {},
          "output_type": "execute_result"
        }
      ],
      "source": [
        "\n",
        "#ar_select_order : gives the best lags ordered as an array\n",
        "\n",
        "# to select the optimal values for lags\n",
        "from statsmodels.tsa.ar_model import ar_select_order\n",
        "mod = ar_select_order(data1,maxlag=15,glob=True)\n",
        "mod.ar_lags\n",
        "\n",
        "# select_order: selects the best number of lags\n",
        "# maxlag: The maximum lag to consider\n",
        "# glob: global search across all combinations of lags"
      ]
    },
    {
      "cell_type": "code",
      "execution_count": null,
      "metadata": {
        "id": "WKkqBQlqPvLx"
      },
      "outputs": [],
      "source": [
        "## model creation\n",
        "ar_model=AutoReg(train,lags=[1,8,12,13]) ## object creation with lags specified\n",
        "ar_model_fit=ar_model.fit() #training the model"
      ]
    },
    {
      "cell_type": "code",
      "execution_count": null,
      "metadata": {
        "id": "NVcfHeDxPvLy"
      },
      "outputs": [],
      "source": [
        "##making prediction\n",
        "prediction=ar_model_fit.predict(start=100,end=142)"
      ]
    },
    {
      "cell_type": "code",
      "execution_count": null,
      "metadata": {
        "colab": {
          "base_uri": "https://localhost:8080/",
          "height": 282
        },
        "id": "y8-NWfqmPvL0",
        "outputId": "943af8c4-a8da-4474-c76a-bc938bf7f17f"
      },
      "outputs": [
        {
          "data": {
            "text/plain": [
              "[<matplotlib.lines.Line2D at 0x21e57efd340>]"
            ]
          },
          "execution_count": 30,
          "metadata": {},
          "output_type": "execute_result"
        },
        {
          "data": {
            "image/png": "[encoded data removed]",
            "text/plain": [
              "<Figure size 640x480 with 1 Axes>"
            ]
          },
          "metadata": {},
          "output_type": "display_data"
        }
      ],
      "source": [
        "import matplotlib.pyplot as plt\n",
        "\n",
        "plt.plot(test)\n",
        "plt.plot(prediction,color='green') #graph of test vs prediction"
      ]
    },
    {
      "cell_type": "markdown",
      "metadata": {
        "id": "dUAIFS4XPvL2"
      },
      "source": [
        "## ARIMA Model"
      ]
    },
    {
      "cell_type": "code",
      "execution_count": null,
      "metadata": {
        "id": "6grnmWvDPvL3"
      },
      "outputs": [],
      "source": [
        "## importing the library\n",
        "from statsmodels.tsa.arima.model import ARIMA"
      ]
    },
    {
      "cell_type": "code",
      "execution_count": null,
      "metadata": {
        "id": "PQw4qA9WPvL4"
      },
      "outputs": [],
      "source": [
        "##Model object creation and fitting the model\n",
        "model_arima = ARIMA(train, order=(1,1,0))#order= p,d,q\n",
        "\n",
        "model_arima_fit = model_arima.fit()#training"
      ]
    },
    {
      "cell_type": "markdown",
      "metadata": {
        "id": "POdnNyJuwFG7"
      },
      "source": [
        "Akaike Information Criteria (AIC):\n",
        "\n",
        "AIC is an estimator of prediction error which measures a statistical model in order to quantify the goodness of fit of the model. While comparing two models, the smaller the AIC value, the better the time series model.\n",
        "\n",
        "![image.png](attachment:image.png)\n",
        "K: The number of model parameters.\n",
        "ln(L): The log-likelihood of the model. This tells us how likely the model is, given the data.\n",
        "\n",
        "\n",
        "AIC uses a model’s maximum likelihood estimation (log-likelihood) as a measure of fit. Log-likelihood is a measure of how likely one is to see their observed data, given a model. The model with the maximum likelihood is the one that “fits” the data the best. The natural log of the likelihood is used as a computational convenience.\n",
        "\n",
        "AIC is low for models with high log-likelihoods. This means the model fits the data better, which is what we want.\n",
        "\n",
        "Once you’ve fit several regression models, you can compare the AIC value of each model. The model with the lowest AIC offers the best fit.\n",
        "\n",
        "There is no value for AIC that can be considered “good” or “bad” because we simply use AIC as a way to compare regression models. The model with the lowest AIC offers the best fit. The absolute value of the AIC value is not important."
      ]
    },
    {
      "cell_type": "code",
      "execution_count": null,
      "metadata": {
        "colab": {
          "base_uri": "https://localhost:8080/"
        },
        "id": "HyFAfAsYPvL5",
        "outputId": "fceabeac-2b6f-4760-c3e3-e85ef6e5888b"
      },
      "outputs": [
        {
          "name": "stdout",
          "output_type": "stream",
          "text": [
            "1021.0396389673776\n"
          ]
        }
      ],
      "source": [
        "## evaluate the model\n",
        "print(model_arima_fit.aic)"
      ]
    },
    {
      "cell_type": "code",
      "execution_count": null,
      "metadata": {
        "id": "2W5T8tZiPvL6"
      },
      "outputs": [],
      "source": [
        "## predicting the output of sample points\n",
        "predictions = model_arima_fit.forecast(steps=9)"
      ]
    },
    {
      "cell_type": "code",
      "execution_count": null,
      "metadata": {
        "colab": {
          "base_uri": "https://localhost:8080/"
        },
        "id": "d26WGD_rPvL7",
        "outputId": "788c3bc7-9978-4146-f5e8-413bde95cad1"
      },
      "outputs": [
        {
          "data": {
            "text/plain": [
              "1957-07-01    37.765356\n",
              "1957-08-01    48.751565\n",
              "1957-09-01    43.323244\n",
              "1957-10-01    46.005395\n",
              "1957-11-01    44.680135\n",
              "1957-12-01    45.334950\n",
              "1958-01-01    45.011404\n",
              "1958-02-01    45.171269\n",
              "1958-03-01    45.092279\n",
              "Freq: MS, Name: predicted_mean, dtype: float64"
            ]
          },
          "execution_count": 35,
          "metadata": {},
          "output_type": "execute_result"
        }
      ],
      "source": [
        "predictions"
      ]
    },
    {
      "cell_type": "code",
      "execution_count": null,
      "metadata": {
        "id": "sItH2gDtwFG8",
        "outputId": "52ddb8b3-1c3c-4582-9239-5cf225275e32"
      },
      "outputs": [
        {
          "data": {
            "text/plain": [
              "[<matplotlib.lines.Line2D at 0x21e57dde3a0>]"
            ]
          },
          "execution_count": 36,
          "metadata": {},
          "output_type": "execute_result"
        },
        {
          "data": {
            "image/png": "[encoded data removed]",
            "text/plain": [
              "<Figure size 640x480 with 1 Axes>"
            ]
          },
          "metadata": {},
          "output_type": "display_data"
        }
      ],
      "source": [
        "plt.plot(test[:9])"
      ]
    },
    {
      "cell_type": "code",
      "execution_count": null,
      "metadata": {
        "colab": {
          "base_uri": "https://localhost:8080/",
          "height": 283
        },
        "id": "dhI16YGyPvL9",
        "outputId": "c38b798c-37e4-45a0-e1f4-4c1adda8c4d5"
      },
      "outputs": [
        {
          "data": {
            "text/plain": [
              "[<matplotlib.lines.Line2D at 0x21e57ecca30>]"
            ]
          },
          "execution_count": 37,
          "metadata": {},
          "output_type": "execute_result"
        },
        {
          "data": {
            "image/png": "[encoded data removed]",
            "text/plain": [
              "<Figure size 640x480 with 1 Axes>"
            ]
          },
          "metadata": {},
          "output_type": "display_data"
        }
      ],
      "source": [
        "## plotting the ARIMA forecast values using random pdq\n",
        "plt.plot(predictions,color='green')"
      ]
    },
    {
      "cell_type": "code",
      "execution_count": null,
      "metadata": {
        "id": "xXjc4bN1PvL-",
        "outputId": "7155f2a6-ca4a-44be-f2e5-f0a1ca2813a1"
      },
      "outputs": [
        {
          "data": {
            "text/plain": [
              "[(0, 0, 0),\n",
              " (0, 0, 1),\n",
              " (0, 0, 2),\n",
              " (0, 0, 3),\n",
              " (0, 0, 4),\n",
              " (0, 1, 0),\n",
              " (0, 1, 1),\n",
              " (0, 1, 2),\n",
              " (0, 1, 3),\n",
              " (0, 1, 4),\n",
              " (0, 2, 0),\n",
              " (0, 2, 1),\n",
              " (0, 2, 2),\n",
              " (0, 2, 3),\n",
              " (0, 2, 4),\n",
              " (0, 3, 0),\n",
              " (0, 3, 1),\n",
              " (0, 3, 2),\n",
              " (0, 3, 3),\n",
              " (0, 3, 4),\n",
              " (0, 4, 0),\n",
              " (0, 4, 1),\n",
              " (0, 4, 2),\n",
              " (0, 4, 3),\n",
              " (0, 4, 4),\n",
              " (1, 0, 0),\n",
              " (1, 0, 1),\n",
              " (1, 0, 2),\n",
              " (1, 0, 3),\n",
              " (1, 0, 4),\n",
              " (1, 1, 0),\n",
              " (1, 1, 1),\n",
              " (1, 1, 2),\n",
              " (1, 1, 3),\n",
              " (1, 1, 4),\n",
              " (1, 2, 0),\n",
              " (1, 2, 1),\n",
              " (1, 2, 2),\n",
              " (1, 2, 3),\n",
              " (1, 2, 4),\n",
              " (1, 3, 0),\n",
              " (1, 3, 1),\n",
              " (1, 3, 2),\n",
              " (1, 3, 3),\n",
              " (1, 3, 4),\n",
              " (1, 4, 0),\n",
              " (1, 4, 1),\n",
              " (1, 4, 2),\n",
              " (1, 4, 3),\n",
              " (1, 4, 4),\n",
              " (2, 0, 0),\n",
              " (2, 0, 1),\n",
              " (2, 0, 2),\n",
              " (2, 0, 3),\n",
              " (2, 0, 4),\n",
              " (2, 1, 0),\n",
              " (2, 1, 1),\n",
              " (2, 1, 2),\n",
              " (2, 1, 3),\n",
              " (2, 1, 4),\n",
              " (2, 2, 0),\n",
              " (2, 2, 1),\n",
              " (2, 2, 2),\n",
              " (2, 2, 3),\n",
              " (2, 2, 4),\n",
              " (2, 3, 0),\n",
              " (2, 3, 1),\n",
              " (2, 3, 2),\n",
              " (2, 3, 3),\n",
              " (2, 3, 4),\n",
              " (2, 4, 0),\n",
              " (2, 4, 1),\n",
              " (2, 4, 2),\n",
              " (2, 4, 3),\n",
              " (2, 4, 4),\n",
              " (3, 0, 0),\n",
              " (3, 0, 1),\n",
              " (3, 0, 2),\n",
              " (3, 0, 3),\n",
              " (3, 0, 4),\n",
              " (3, 1, 0),\n",
              " (3, 1, 1),\n",
              " (3, 1, 2),\n",
              " (3, 1, 3),\n",
              " (3, 1, 4),\n",
              " (3, 2, 0),\n",
              " (3, 2, 1),\n",
              " (3, 2, 2),\n",
              " (3, 2, 3),\n",
              " (3, 2, 4),\n",
              " (3, 3, 0),\n",
              " (3, 3, 1),\n",
              " (3, 3, 2),\n",
              " (3, 3, 3),\n",
              " (3, 3, 4),\n",
              " (3, 4, 0),\n",
              " (3, 4, 1),\n",
              " (3, 4, 2),\n",
              " (3, 4, 3),\n",
              " (3, 4, 4),\n",
              " (4, 0, 0),\n",
              " (4, 0, 1),\n",
              " (4, 0, 2),\n",
              " (4, 0, 3),\n",
              " (4, 0, 4),\n",
              " (4, 1, 0),\n",
              " (4, 1, 1),\n",
              " (4, 1, 2),\n",
              " (4, 1, 3),\n",
              " (4, 1, 4),\n",
              " (4, 2, 0),\n",
              " (4, 2, 1),\n",
              " (4, 2, 2),\n",
              " (4, 2, 3),\n",
              " (4, 2, 4),\n",
              " (4, 3, 0),\n",
              " (4, 3, 1),\n",
              " (4, 3, 2),\n",
              " (4, 3, 3),\n",
              " (4, 3, 4),\n",
              " (4, 4, 0),\n",
              " (4, 4, 1),\n",
              " (4, 4, 2),\n",
              " (4, 4, 3),\n",
              " (4, 4, 4)]"
            ]
          },
          "execution_count": 38,
          "metadata": {},
          "output_type": "execute_result"
        }
      ],
      "source": [
        "## Geeting the optimal values of p,q an d\n",
        "import itertools\n",
        "\n",
        "p =d= q=range(0,5)#values of p,d,q range from 0 to 4\n",
        "\n",
        "pdq = list(itertools.product(p,d,q))\n",
        "# is used to find the cartesian product from the given iterator, output is lexicographic ordered.\n",
        "pdq #number of combinaton of pdq"
      ]
    },
    {
      "cell_type": "code",
      "execution_count": null,
      "metadata": {
        "id": "R1a12QbPwFG8",
        "outputId": "4b938783-ed13-49ef-f2ab-6e55d21b2d5d"
      },
      "outputs": [
        {
          "name": "stdout",
          "output_type": "stream",
          "text": [
            "(0, 0, 0) 967.9135518309452\n",
            "(0, 0, 1) 931.437281104524\n",
            "(0, 0, 2) 925.7296609062282\n",
            "(0, 0, 3) 920.9009365380894\n",
            "(0, 0, 4) 912.6569282151953\n",
            "(0, 1, 0) 1046.7319001420174\n",
            "(0, 1, 1) 963.8739393255743\n",
            "(0, 1, 2) 933.2130365323442\n",
            "(0, 1, 3) 926.5736523024469\n",
            "(0, 1, 4) 924.3112185216361\n",
            "(0, 2, 0) 1143.9983209811053\n",
            "(0, 2, 1) 1043.7570583844451\n",
            "(0, 2, 2) 966.1633563828659\n",
            "(0, 2, 3) 941.618409808945\n",
            "(0, 2, 4) 933.7559881600529\n",
            "(0, 3, 0) 1247.2070979580242\n",
            "(0, 3, 1) 1139.8659453430575\n",
            "(0, 3, 2) 1044.647154158768\n",
            "(0, 3, 3) 972.3660226921828\n",
            "(0, 3, 4) 955.3605771913825\n",
            "(0, 4, 0) 1351.0676098839504\n",
            "(0, 4, 1) 1241.6050826057844\n",
            "(0, 4, 2) 1139.202341246284\n",
            "(0, 4, 3) 1048.6682957323665\n",
            "(0, 4, 4) 987.4815839028226\n",
            "(1, 0, 0) 963.0127961447531\n",
            "(1, 0, 1) 928.7077562449089\n",
            "(1, 0, 2) 919.8685603545879\n",
            "(1, 0, 3) 921.8388147302288\n",
            "(1, 0, 4) 923.3886062474771\n",
            "(1, 1, 0) 1021.0396389673776\n",
            "(1, 1, 1) 959.4979676508102\n",
            "(1, 1, 2) 962.9514176426658\n",
            "(1, 1, 3) 923.2264237790554\n",
            "(1, 1, 4) 923.1014008133251\n",
            "(1, 2, 0) 1098.8738469115458\n",
            "(1, 2, 1) 1019.1218015515585\n",
            "(1, 2, 2) 962.4933763532948\n",
            "(1, 2, 3) 965.146246686115\n",
            "(1, 2, 4) 931.2407614059001\n",
            "(1, 3, 0) 1186.5053670162433\n",
            "(1, 3, 1) 1096.1395155105445\n",
            "(1, 3, 2) 1021.3161904128209\n",
            "(1, 3, 3) 1048.5611971586384\n",
            "(1, 3, 4) 971.2005260102634\n",
            "(1, 4, 0) 1279.6340971680033\n",
            "(1, 4, 1) 1182.441514595316\n",
            "(1, 4, 2) 1096.9076567642392\n",
            "(1, 4, 3) 1141.760678249439\n",
            "(1, 4, 4) 1050.0994760718802\n",
            "(2, 0, 0) 951.2134496277077\n",
            "(2, 0, 1) 926.7745524273423\n",
            "(2, 0, 2) 921.84489546467\n",
            "(2, 0, 3) 923.4339327748909\n",
            "(2, 0, 4) 907.3464151515104\n",
            "(2, 1, 0) 987.8554910217114\n",
            "(2, 1, 1) 948.4595247235333\n",
            "(2, 1, 2) 948.207290838551\n",
            "(2, 1, 3) 924.3432835020006\n",
            "(2, 1, 4) 920.4699565701516\n",
            "(2, 2, 0) 1042.434133112731\n",
            "(2, 2, 1) 987.1969170580849\n",
            "(2, 2, 2) 952.5015835214933\n",
            "(2, 2, 3) 955.5751286266003\n",
            "(2, 2, 4) 961.3103106772403\n",
            "(2, 3, 0) 1112.0638834730983\n",
            "(2, 3, 1) 1041.3775809372778\n",
            "(2, 3, 2) 991.0085582526692\n",
            "(2, 3, 3) 960.9206249180891\n",
            "(2, 3, 4) 963.0556723897754\n",
            "(2, 4, 0) 1192.6109731200627\n",
            "(2, 4, 1) 1109.8713349990862\n",
            "(2, 4, 2) 1044.1267126037646\n",
            "(2, 4, 3) 998.3961912137005\n",
            "(2, 4, 4) 1017.8944704378629\n",
            "(3, 0, 0) 953.1213128116451\n",
            "(3, 0, 1) 928.7783158579459\n",
            "(3, 0, 2) 923.5861503657959\n",
            "(3, 0, 3) 925.4068400384474\n",
            "(3, 0, 4) 908.940218391151\n",
            "(3, 1, 0) 988.1270457402936\n",
            "(3, 1, 1) 950.4173558505981\n",
            "(3, 1, 2) 947.4292748137639\n",
            "(3, 1, 3) 925.6993668631638\n",
            "(3, 1, 4) 917.3601330054589\n",
            "(3, 2, 0) 1035.9653947027768\n",
            "(3, 2, 1) 987.7213009079799\n",
            "(3, 2, 2) 988.3429756452321\n",
            "(3, 2, 3) 953.385948883586\n",
            "(3, 2, 4) 956.1130027768625\n",
            "(3, 3, 0) 1092.040329146795\n",
            "(3, 3, 1) 1035.48954737446\n",
            "(3, 3, 2) 991.8398773907323\n",
            "(3, 3, 3) 992.1563747698322\n",
            "(3, 3, 4) 960.0118630335216\n",
            "(3, 4, 0) 1157.4666167735704\n",
            "(3, 4, 1) 1090.8329011177557\n",
            "(3, 4, 2) 1038.9356877711505\n",
            "(3, 4, 3) 1046.4805166417445\n",
            "(3, 4, 4) 999.3983764142527\n",
            "(4, 0, 0) 938.2795905978327\n",
            "(4, 0, 1) 918.2879117993156\n",
            "(4, 0, 2) 919.7069508278724\n",
            "(4, 0, 3) 904.911794354548\n",
            "(4, 0, 4) 906.8299801866274\n",
            "(4, 1, 0) 975.7694853871897\n",
            "(4, 1, 1) 936.4163375314594\n",
            "(4, 1, 2) 921.0508417722933\n",
            "(4, 1, 3) 922.7509215856852\n",
            "(4, 1, 4) 920.2434571895739\n",
            "(4, 2, 0) 1026.5680206708043\n",
            "(4, 2, 1) 976.1403584514978\n",
            "(4, 2, 2) 941.5076690116175\n",
            "(4, 2, 3) 979.4346648440245\n",
            "(4, 2, 4) 961.2614755660356\n",
            "(4, 3, 0) 1078.6057399539363\n",
            "(4, 3, 1) 1026.7742645244002\n",
            "(4, 3, 2) 981.3202808432795\n",
            "(4, 3, 3) 1028.37996056243\n",
            "(4, 3, 4) 986.8538069583498\n",
            "(4, 4, 0) 1132.8807846683894\n",
            "(4, 4, 1) 1078.2001450523853\n",
            "(4, 4, 2) 1030.9289801954246\n",
            "(4, 4, 3) 1037.242955258069\n",
            "(4, 4, 4) 999.119220321177\n"
          ]
        }
      ],
      "source": [
        "##The Python try… except statement catches an exception. It is used to test code for an error which is written in the “try” statement.\n",
        "#If an error is encountered, the contents of the “except” block are run.\n",
        "list1=[]\n",
        "list2=[]\n",
        "for params in pdq: #iterating params over pdq\n",
        "    try:\n",
        "        model_arima = ARIMA(train, order=params)#training model on various pdq values\n",
        "        model_arima_fit = model_arima.fit()#training\n",
        "        print(params, model_arima_fit.aic)#printing parameter and aic values\n",
        "        list1.append(params)\n",
        "        list2.append(model_arima_fit.aic)\n",
        "    except:\n",
        "        continue"
      ]
    },
    {
      "cell_type": "code",
      "execution_count": null,
      "metadata": {
        "id": "B34_Kx8hwFG9",
        "outputId": "271f425b-511e-4788-dc29-a853df81329b"
      },
      "outputs": [
        {
          "data": {
            "text/plain": [
              "904.911794354548"
            ]
          },
          "execution_count": 40,
          "metadata": {},
          "output_type": "execute_result"
        }
      ],
      "source": [
        "min(list2)  # lowest aic score"
      ]
    },
    {
      "cell_type": "code",
      "execution_count": null,
      "metadata": {
        "id": "L32TF7cawFG-",
        "outputId": "e4d77236-c2c6-4981-cccd-80597a8348e4"
      },
      "outputs": [
        {
          "data": {
            "text/plain": [
              "(4, 0, 3)"
            ]
          },
          "execution_count": 41,
          "metadata": {},
          "output_type": "execute_result"
        }
      ],
      "source": [
        "# pdq corresponding to lowest aic\n",
        "loc=list2.index(min(list2))\n",
        "list1[loc]"
      ]
    },
    {
      "cell_type": "code",
      "execution_count": null,
      "metadata": {
        "id": "2PL5xhE-PvMA",
        "scrolled": true
      },
      "outputs": [],
      "source": [
        "## create the final model with lowest aic score parameter\n",
        "model_arima = ARIMA(train, order=(4, 0, 3))\n",
        "\n",
        "model_arima_fit = model_arima.fit() #training"
      ]
    },
    {
      "cell_type": "code",
      "execution_count": null,
      "metadata": {
        "colab": {
          "base_uri": "https://localhost:8080/"
        },
        "id": "Zqx0lDWjPvMC",
        "outputId": "bba91f10-a63e-4cf7-ca49-e5b67daba04a"
      },
      "outputs": [
        {
          "name": "stdout",
          "output_type": "stream",
          "text": [
            "904.911794354548\n"
          ]
        }
      ],
      "source": [
        "print(model_arima_fit.aic) # confirm aic score"
      ]
    },
    {
      "cell_type": "code",
      "execution_count": null,
      "metadata": {
        "id": "fPTFDovJPvMD",
        "outputId": "bc6439cb-bf93-44d4-dd7c-dd885e166242"
      },
      "outputs": [
        {
          "data": {
            "text/plain": [
              "1957-07-01   -51.877284\n",
              "1957-08-01   -22.751336\n",
              "1957-09-01    22.963300\n",
              "1957-10-01   -22.792837\n",
              "1957-11-01     5.529398\n",
              "1957-12-01    28.124097\n",
              "1958-01-01   -28.700879\n",
              "1958-02-01    -0.725011\n",
              "1958-03-01    26.552855\n",
              "Freq: MS, Name: predicted_mean, dtype: float64"
            ]
          },
          "execution_count": 44,
          "metadata": {},
          "output_type": "execute_result"
        }
      ],
      "source": [
        "forecast = model_arima_fit.forecast(steps=9)\n",
        "forecast"
      ]
    },
    {
      "cell_type": "code",
      "execution_count": null,
      "metadata": {
        "colab": {
          "base_uri": "https://localhost:8080/",
          "height": 283
        },
        "id": "YjOdDXopPvMF",
        "outputId": "41606b9e-6b82-43ce-aff0-0467e751013e"
      },
      "outputs": [
        {
          "data": {
            "text/plain": [
              "[<matplotlib.lines.Line2D at 0x21e58438820>]"
            ]
          },
          "execution_count": 45,
          "metadata": {},
          "output_type": "execute_result"
        },
        {
          "data": {
            "image/png": "[encoded data removed]",
            "text/plain": [
              "<Figure size 640x480 with 1 Axes>"
            ]
          },
          "metadata": {},
          "output_type": "display_data"
        }
      ],
      "source": [
        "# Comparision of actual vs predicted for 9 values\n",
        "plt.plot(test[:9])\n",
        "plt.plot(forecast,color='green')#line plot for prediction"
      ]
    },
    {
      "cell_type": "code",
      "execution_count": null,
      "metadata": {
        "id": "ah072jzpwFG_",
        "outputId": "08ae07d0-7aff-4169-c567-763bc07d7cec"
      },
      "outputs": [
        {
          "data": {
            "text/plain": [
              "array([ -24.,  -41.,  -65.,    6.,   15.,   73.,  -27.,  -26.,   66.,\n",
              "        -58.,   29.,   57.,  -16.,  -42., -115.,   56.,   -4.,   76.,\n",
              "         -4.,  -41.,   82.,  -74.,   34.,   28.,   24.])"
            ]
          },
          "execution_count": 46,
          "metadata": {},
          "output_type": "execute_result"
        }
      ],
      "source": [
        "forecast25 = model_arima_fit.forecast(steps=25)\n",
        "test1 = test[0:25].values.flatten()\n",
        "test1"
      ]
    },
    {
      "cell_type": "code",
      "execution_count": null,
      "metadata": {
        "colab": {
          "base_uri": "https://localhost:8080/",
          "height": 283
        },
        "id": "ziHRfC56wFG_",
        "outputId": "41606b9e-6b82-43ce-aff0-0467e751013e"
      },
      "outputs": [
        {
          "data": {
            "text/plain": [
              "[<matplotlib.lines.Line2D at 0x21e5849cdc0>]"
            ]
          },
          "execution_count": 47,
          "metadata": {},
          "output_type": "execute_result"
        },
        {
          "data": {
            "image/png": "[encoded data removed]",
            "text/plain": [
              "<Figure size 640x480 with 1 Axes>"
            ]
          },
          "metadata": {},
          "output_type": "display_data"
        }
      ],
      "source": [
        "# Comparision of actual vs predicted for 25 values\n",
        "plt.plot(test[:25])\n",
        "plt.plot(forecast25,color='green') #line plot for prediction"
      ]
    },
    {
      "cell_type": "code",
      "execution_count": null,
      "metadata": {
        "id": "ksgrGrSYwFHA",
        "outputId": "e2d91210-dc09-437c-d24b-44ec771e4518"
      },
      "outputs": [
        {
          "data": {
            "text/plain": [
              "{'mse': 2351.355006598445, 'mae': 38.28561898032985, 'rmse': 48.49077238607821}"
            ]
          },
          "execution_count": 48,
          "metadata": {},
          "output_type": "execute_result"
        }
      ],
      "source": [
        "# Accuracy metrics\n",
        "import numpy as np\n",
        "def forecast_accuracy(forecast, actual):\n",
        "    mse = np.mean((forecast - actual)**2)        # MSE\n",
        "    mae = np.mean(np.abs(forecast - actual))    # MAE\n",
        "    rmse = np.mean((forecast - actual)**2)**.5  # RMSE\n",
        "\n",
        "\n",
        "    return({'mse':mse, 'mae': mae, 'rmse':rmse})\n",
        "\n",
        "forecast_accuracy(forecast25, test1)"
      ]
    },
    {
      "cell_type": "code",
      "execution_count": null,
      "metadata": {
        "id": "x0d18YbawFHA",
        "outputId": "d39b47e3-30c0-4f08-841e-53ebe8348c7d"
      },
      "outputs": [
        {
          "name": "stdout",
          "output_type": "stream",
          "text": [
            "48.49077238607821\n"
          ]
        },
        {
          "data": {
            "text/plain": [
              "2351.355006598445"
            ]
          },
          "execution_count": 49,
          "metadata": {},
          "output_type": "execute_result"
        }
      ],
      "source": [
        "from sklearn.metrics import mean_squared_error\n",
        "from statsmodels.tools.eval_measures import rmse\n",
        "\n",
        "# Calculate root mean squared error\n",
        "print(rmse(test1, forecast25))\n",
        "\n",
        "# Calculate mean squared error\n",
        "mean_squared_error(test1, forecast25)\n"
      ]
    },
    {
      "cell_type": "code",
      "execution_count": null,
      "metadata": {
        "id": "EmS4UhaqwFHA"
      },
      "outputs": [],
      "source": []
    }
  ],
  "metadata": {
    "colab": {
      "provenance": []
    },
    "kernelspec": {
      "display_name": "Python 3 (ipykernel)",
      "language": "python",
      "name": "python3"
    },
    "language_info": {
      "codemirror_mode": {
        "name": "ipython",
        "version": 3
      },
      "file_extension": ".py",
      "mimetype": "text/x-python",
      "name": "python",
      "nbconvert_exporter": "python",
      "pygments_lexer": "ipython3",
      "version": "3.9.13"
    }
  },
  "nbformat": 4,
  "nbformat_minor": 0
}